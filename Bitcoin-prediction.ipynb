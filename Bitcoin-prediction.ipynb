{
 "cells": [
  {
   "cell_type": "code",
   "execution_count": 1,
   "metadata": {},
   "outputs": [
    {
     "data": {
      "text/html": [
       "<div>\n",
       "<style scoped>\n",
       "    .dataframe tbody tr th:only-of-type {\n",
       "        vertical-align: middle;\n",
       "    }\n",
       "\n",
       "    .dataframe tbody tr th {\n",
       "        vertical-align: top;\n",
       "    }\n",
       "\n",
       "    .dataframe thead th {\n",
       "        text-align: right;\n",
       "    }\n",
       "</style>\n",
       "<table border=\"1\" class=\"dataframe\">\n",
       "  <thead>\n",
       "    <tr style=\"text-align: right;\">\n",
       "      <th></th>\n",
       "      <th>Open</th>\n",
       "      <th>High</th>\n",
       "      <th>Low</th>\n",
       "      <th>Close</th>\n",
       "      <th>Volume</th>\n",
       "      <th>Market Cap</th>\n",
       "    </tr>\n",
       "    <tr>\n",
       "      <th>Date</th>\n",
       "      <th></th>\n",
       "      <th></th>\n",
       "      <th></th>\n",
       "      <th></th>\n",
       "      <th></th>\n",
       "      <th></th>\n",
       "    </tr>\n",
       "  </thead>\n",
       "  <tbody>\n",
       "    <tr>\n",
       "      <th>2015-01-01</th>\n",
       "      <td>320.43</td>\n",
       "      <td>320.43</td>\n",
       "      <td>314.00</td>\n",
       "      <td>314.25</td>\n",
       "      <td>8036550</td>\n",
       "      <td>4,297,535,768</td>\n",
       "    </tr>\n",
       "    <tr>\n",
       "      <th>2015-01-02</th>\n",
       "      <td>314.08</td>\n",
       "      <td>315.84</td>\n",
       "      <td>313.57</td>\n",
       "      <td>315.03</td>\n",
       "      <td>7860650</td>\n",
       "      <td>4,309,551,126</td>\n",
       "    </tr>\n",
       "    <tr>\n",
       "      <th>2015-01-03</th>\n",
       "      <td>314.85</td>\n",
       "      <td>315.15</td>\n",
       "      <td>281.08</td>\n",
       "      <td>281.08</td>\n",
       "      <td>33054400</td>\n",
       "      <td>3,846,269,872</td>\n",
       "    </tr>\n",
       "    <tr>\n",
       "      <th>2015-01-04</th>\n",
       "      <td>281.15</td>\n",
       "      <td>287.23</td>\n",
       "      <td>257.61</td>\n",
       "      <td>264.20</td>\n",
       "      <td>55629100</td>\n",
       "      <td>3,616,320,975</td>\n",
       "    </tr>\n",
       "    <tr>\n",
       "      <th>2015-01-05</th>\n",
       "      <td>265.08</td>\n",
       "      <td>278.34</td>\n",
       "      <td>265.08</td>\n",
       "      <td>274.47</td>\n",
       "      <td>43962800</td>\n",
       "      <td>3,758,098,008</td>\n",
       "    </tr>\n",
       "  </tbody>\n",
       "</table>\n",
       "</div>"
      ],
      "text/plain": [
       "              Open    High     Low   Close    Volume     Market Cap\n",
       "Date                                                               \n",
       "2015-01-01  320.43  320.43  314.00  314.25   8036550  4,297,535,768\n",
       "2015-01-02  314.08  315.84  313.57  315.03   7860650  4,309,551,126\n",
       "2015-01-03  314.85  315.15  281.08  281.08  33054400  3,846,269,872\n",
       "2015-01-04  281.15  287.23  257.61  264.20  55629100  3,616,320,975\n",
       "2015-01-05  265.08  278.34  265.08  274.47  43962800  3,758,098,008"
      ]
     },
     "execution_count": 1,
     "metadata": {},
     "output_type": "execute_result"
    }
   ],
   "source": [
    "import pandas as pd\n",
    "import time\n",
    "import seaborn as sns\n",
    "import matplotlib.pyplot as plt\n",
    "import datetime\n",
    "import numpy as np\n",
    "\n",
    "#Get bitcoin market info: \"Date\", \"Open\", \"High\", \"Low\", \"Close\", \"Volume\", \"Market Cap\".\n",
    "bitcoin_market_info = pd.read_csv(\"Bitcoin-data.csv\")\n",
    "bitcoin_market_info['Date'] = pd.to_datetime(bitcoin_market_info.Date)\n",
    "bitcoin_market_info.sort_values(by='Date', inplace=True, ascending=True)\n",
    "bitcoin_market_info = bitcoin_market_info.set_index('Date')\n",
    "\n",
    "# Convert\"Volume\" to an integer.\n",
    "bitcoin_market_info['Volume'] = bitcoin_market_info['Volume'].astype('int64')\n",
    "\n",
    "# Look at the first few rows.\n",
    "bitcoin_market_info.head()"
   ]
  },
  {
   "cell_type": "code",
   "execution_count": 3,
   "metadata": {},
   "outputs": [
    {
     "data": {
      "text/plain": [
       "dtype('int64')"
      ]
     },
     "execution_count": 3,
     "metadata": {},
     "output_type": "execute_result"
    }
   ],
   "source": [
    "bitcoin_market_info['Volume'].dtype"
   ]
  },
  {
   "cell_type": "code",
   "execution_count": 2,
   "metadata": {},
   "outputs": [
    {
     "data": {
      "text/plain": [
       "Index(['Open', 'High', 'Low', 'Close', 'Volume', 'Market Cap'], dtype='object')"
      ]
     },
     "execution_count": 2,
     "metadata": {},
     "output_type": "execute_result"
    }
   ],
   "source": [
    "bitcoin_market_info.columns"
   ]
  },
  {
   "cell_type": "code",
   "execution_count": 3,
   "metadata": {},
   "outputs": [],
   "source": [
    "bitcoin_market_info.drop(['Volume','Market Cap'],axis=1,inplace=True)"
   ]
  },
  {
   "cell_type": "code",
   "execution_count": 4,
   "metadata": {},
   "outputs": [
    {
     "data": {
      "text/html": [
       "<div>\n",
       "<style scoped>\n",
       "    .dataframe tbody tr th:only-of-type {\n",
       "        vertical-align: middle;\n",
       "    }\n",
       "\n",
       "    .dataframe tbody tr th {\n",
       "        vertical-align: top;\n",
       "    }\n",
       "\n",
       "    .dataframe thead th {\n",
       "        text-align: right;\n",
       "    }\n",
       "</style>\n",
       "<table border=\"1\" class=\"dataframe\">\n",
       "  <thead>\n",
       "    <tr style=\"text-align: right;\">\n",
       "      <th></th>\n",
       "      <th>Open</th>\n",
       "      <th>High</th>\n",
       "      <th>Low</th>\n",
       "      <th>Close</th>\n",
       "    </tr>\n",
       "    <tr>\n",
       "      <th>Date</th>\n",
       "      <th></th>\n",
       "      <th></th>\n",
       "      <th></th>\n",
       "      <th></th>\n",
       "    </tr>\n",
       "  </thead>\n",
       "  <tbody>\n",
       "    <tr>\n",
       "      <th>2015-01-01</th>\n",
       "      <td>320.43</td>\n",
       "      <td>320.43</td>\n",
       "      <td>314.00</td>\n",
       "      <td>314.25</td>\n",
       "    </tr>\n",
       "    <tr>\n",
       "      <th>2015-01-02</th>\n",
       "      <td>314.08</td>\n",
       "      <td>315.84</td>\n",
       "      <td>313.57</td>\n",
       "      <td>315.03</td>\n",
       "    </tr>\n",
       "    <tr>\n",
       "      <th>2015-01-03</th>\n",
       "      <td>314.85</td>\n",
       "      <td>315.15</td>\n",
       "      <td>281.08</td>\n",
       "      <td>281.08</td>\n",
       "    </tr>\n",
       "    <tr>\n",
       "      <th>2015-01-04</th>\n",
       "      <td>281.15</td>\n",
       "      <td>287.23</td>\n",
       "      <td>257.61</td>\n",
       "      <td>264.20</td>\n",
       "    </tr>\n",
       "    <tr>\n",
       "      <th>2015-01-05</th>\n",
       "      <td>265.08</td>\n",
       "      <td>278.34</td>\n",
       "      <td>265.08</td>\n",
       "      <td>274.47</td>\n",
       "    </tr>\n",
       "    <tr>\n",
       "      <th>...</th>\n",
       "      <td>...</td>\n",
       "      <td>...</td>\n",
       "      <td>...</td>\n",
       "      <td>...</td>\n",
       "    </tr>\n",
       "    <tr>\n",
       "      <th>2020-03-27</th>\n",
       "      <td>6719.39</td>\n",
       "      <td>6793.84</td>\n",
       "      <td>6466.70</td>\n",
       "      <td>6469.80</td>\n",
       "    </tr>\n",
       "    <tr>\n",
       "      <th>2020-03-28</th>\n",
       "      <td>6467.25</td>\n",
       "      <td>6467.50</td>\n",
       "      <td>6117.84</td>\n",
       "      <td>6242.19</td>\n",
       "    </tr>\n",
       "    <tr>\n",
       "      <th>2020-03-29</th>\n",
       "      <td>6245.62</td>\n",
       "      <td>6250.47</td>\n",
       "      <td>5920.09</td>\n",
       "      <td>5922.04</td>\n",
       "    </tr>\n",
       "    <tr>\n",
       "      <th>2020-03-30</th>\n",
       "      <td>5925.54</td>\n",
       "      <td>6517.20</td>\n",
       "      <td>5903.23</td>\n",
       "      <td>6429.84</td>\n",
       "    </tr>\n",
       "    <tr>\n",
       "      <th>2020-03-31</th>\n",
       "      <td>6430.61</td>\n",
       "      <td>6504.52</td>\n",
       "      <td>6374.16</td>\n",
       "      <td>6438.64</td>\n",
       "    </tr>\n",
       "  </tbody>\n",
       "</table>\n",
       "<p>1917 rows × 4 columns</p>\n",
       "</div>"
      ],
      "text/plain": [
       "               Open     High      Low    Close\n",
       "Date                                          \n",
       "2015-01-01   320.43   320.43   314.00   314.25\n",
       "2015-01-02   314.08   315.84   313.57   315.03\n",
       "2015-01-03   314.85   315.15   281.08   281.08\n",
       "2015-01-04   281.15   287.23   257.61   264.20\n",
       "2015-01-05   265.08   278.34   265.08   274.47\n",
       "...             ...      ...      ...      ...\n",
       "2020-03-27  6719.39  6793.84  6466.70  6469.80\n",
       "2020-03-28  6467.25  6467.50  6117.84  6242.19\n",
       "2020-03-29  6245.62  6250.47  5920.09  5922.04\n",
       "2020-03-30  5925.54  6517.20  5903.23  6429.84\n",
       "2020-03-31  6430.61  6504.52  6374.16  6438.64\n",
       "\n",
       "[1917 rows x 4 columns]"
      ]
     },
     "execution_count": 4,
     "metadata": {},
     "output_type": "execute_result"
    }
   ],
   "source": [
    "#Only keep columns \"Open\", \"High\", \"Low\", \"Close\".\n",
    "bitcoin_market_info"
   ]
  },
  {
   "cell_type": "code",
   "execution_count": 5,
   "metadata": {},
   "outputs": [
    {
     "data": {
      "text/plain": [
       "Open     False\n",
       "High     False\n",
       "Low      False\n",
       "Close    False\n",
       "dtype: bool"
      ]
     },
     "execution_count": 5,
     "metadata": {},
     "output_type": "execute_result"
    }
   ],
   "source": [
    "#Check if any NAN values remain in the dataset\n",
    "bitcoin_market_info.isnull().any()"
   ]
  },
  {
   "cell_type": "code",
   "execution_count": 6,
   "metadata": {},
   "outputs": [
    {
     "data": {
      "text/plain": [
       "(1917, 4)"
      ]
     },
     "execution_count": 6,
     "metadata": {},
     "output_type": "execute_result"
    }
   ],
   "source": [
    "#Shape of the dataset\n",
    "bitcoin_market_info.shape"
   ]
  },
  {
   "cell_type": "code",
   "execution_count": 7,
   "metadata": {},
   "outputs": [
    {
     "data": {
      "text/plain": [
       "<matplotlib.legend.Legend at 0x2680660bfc8>"
      ]
     },
     "execution_count": 7,
     "metadata": {},
     "output_type": "execute_result"
    },
    {
     "data": {
      "image/png": "[encoded data removed]",
      "text/plain": [
       "<Figure size 864x432 with 1 Axes>"
      ]
     },
     "metadata": {},
     "output_type": "display_data"
    }
   ],
   "source": [
    "#Plotting the bitcoin_data on graph using seaborn\n",
    "\n",
    "sns.set()\n",
    "sns.set_style('whitegrid')\n",
    "\n",
    "bitcoin_market_info = bitcoin_market_info.astype(float)\n",
    "\n",
    "bitcoin_market_info['Close'].plot(figsize=(12,6), label='Close')\n",
    "\n",
    "#Plotting the rolling 30 day average against the Close Price\n",
    "bitcoin_market_info['Close'].rolling(window=30).mean().plot(label='30 Day Avg')\n",
    "plt.legend()"
   ]
  },
  {
   "cell_type": "code",
   "execution_count": 8,
   "metadata": {},
   "outputs": [],
   "source": [
    "#Calculating the OHLC Average of data for each day\n",
    "\n",
    "btc = bitcoin_market_info\n",
    "btc['OHLC_Average'] = (btc['Open'] + btc['High'] + btc['Low'] + btc['Close']) / 4"
   ]
  },
  {
   "cell_type": "code",
   "execution_count": 9,
   "metadata": {
    "scrolled": true
   },
   "outputs": [
    {
     "data": {
      "text/html": [
       "<div>\n",
       "<style scoped>\n",
       "    .dataframe tbody tr th:only-of-type {\n",
       "        vertical-align: middle;\n",
       "    }\n",
       "\n",
       "    .dataframe tbody tr th {\n",
       "        vertical-align: top;\n",
       "    }\n",
       "\n",
       "    .dataframe thead th {\n",
       "        text-align: right;\n",
       "    }\n",
       "</style>\n",
       "<table border=\"1\" class=\"dataframe\">\n",
       "  <thead>\n",
       "    <tr style=\"text-align: right;\">\n",
       "      <th></th>\n",
       "      <th>Open</th>\n",
       "      <th>High</th>\n",
       "      <th>Low</th>\n",
       "      <th>Close</th>\n",
       "      <th>OHLC_Average</th>\n",
       "    </tr>\n",
       "    <tr>\n",
       "      <th>Date</th>\n",
       "      <th></th>\n",
       "      <th></th>\n",
       "      <th></th>\n",
       "      <th></th>\n",
       "      <th></th>\n",
       "    </tr>\n",
       "  </thead>\n",
       "  <tbody>\n",
       "    <tr>\n",
       "      <th>2015-01-01</th>\n",
       "      <td>320.43</td>\n",
       "      <td>320.43</td>\n",
       "      <td>314.00</td>\n",
       "      <td>314.25</td>\n",
       "      <td>317.2775</td>\n",
       "    </tr>\n",
       "    <tr>\n",
       "      <th>2015-01-02</th>\n",
       "      <td>314.08</td>\n",
       "      <td>315.84</td>\n",
       "      <td>313.57</td>\n",
       "      <td>315.03</td>\n",
       "      <td>314.6300</td>\n",
       "    </tr>\n",
       "    <tr>\n",
       "      <th>2015-01-03</th>\n",
       "      <td>314.85</td>\n",
       "      <td>315.15</td>\n",
       "      <td>281.08</td>\n",
       "      <td>281.08</td>\n",
       "      <td>298.0400</td>\n",
       "    </tr>\n",
       "    <tr>\n",
       "      <th>2015-01-04</th>\n",
       "      <td>281.15</td>\n",
       "      <td>287.23</td>\n",
       "      <td>257.61</td>\n",
       "      <td>264.20</td>\n",
       "      <td>272.5475</td>\n",
       "    </tr>\n",
       "    <tr>\n",
       "      <th>2015-01-05</th>\n",
       "      <td>265.08</td>\n",
       "      <td>278.34</td>\n",
       "      <td>265.08</td>\n",
       "      <td>274.47</td>\n",
       "      <td>270.7425</td>\n",
       "    </tr>\n",
       "  </tbody>\n",
       "</table>\n",
       "</div>"
      ],
      "text/plain": [
       "              Open    High     Low   Close  OHLC_Average\n",
       "Date                                                    \n",
       "2015-01-01  320.43  320.43  314.00  314.25      317.2775\n",
       "2015-01-02  314.08  315.84  313.57  315.03      314.6300\n",
       "2015-01-03  314.85  315.15  281.08  281.08      298.0400\n",
       "2015-01-04  281.15  287.23  257.61  264.20      272.5475\n",
       "2015-01-05  265.08  278.34  265.08  274.47      270.7425"
      ]
     },
     "execution_count": 9,
     "metadata": {},
     "output_type": "execute_result"
    }
   ],
   "source": [
    "btc.head()"
   ]
  },
  {
   "cell_type": "code",
   "execution_count": 10,
   "metadata": {},
   "outputs": [],
   "source": [
    "btc['Price_After_Month']=btc['Close'].shift(-30)"
   ]
  },
  {
   "cell_type": "code",
   "execution_count": 11,
   "metadata": {},
   "outputs": [
    {
     "data": {
      "text/html": [
       "<div>\n",
       "<style scoped>\n",
       "    .dataframe tbody tr th:only-of-type {\n",
       "        vertical-align: middle;\n",
       "    }\n",
       "\n",
       "    .dataframe tbody tr th {\n",
       "        vertical-align: top;\n",
       "    }\n",
       "\n",
       "    .dataframe thead th {\n",
       "        text-align: right;\n",
       "    }\n",
       "</style>\n",
       "<table border=\"1\" class=\"dataframe\">\n",
       "  <thead>\n",
       "    <tr style=\"text-align: right;\">\n",
       "      <th></th>\n",
       "      <th>Open</th>\n",
       "      <th>High</th>\n",
       "      <th>Low</th>\n",
       "      <th>Close</th>\n",
       "      <th>OHLC_Average</th>\n",
       "      <th>Price_After_Month</th>\n",
       "    </tr>\n",
       "    <tr>\n",
       "      <th>Date</th>\n",
       "      <th></th>\n",
       "      <th></th>\n",
       "      <th></th>\n",
       "      <th></th>\n",
       "      <th></th>\n",
       "      <th></th>\n",
       "    </tr>\n",
       "  </thead>\n",
       "  <tbody>\n",
       "    <tr>\n",
       "      <th>2020-03-27</th>\n",
       "      <td>6719.39</td>\n",
       "      <td>6793.84</td>\n",
       "      <td>6466.70</td>\n",
       "      <td>6469.80</td>\n",
       "      <td>6612.4325</td>\n",
       "      <td>NaN</td>\n",
       "    </tr>\n",
       "    <tr>\n",
       "      <th>2020-03-28</th>\n",
       "      <td>6467.25</td>\n",
       "      <td>6467.50</td>\n",
       "      <td>6117.84</td>\n",
       "      <td>6242.19</td>\n",
       "      <td>6323.6950</td>\n",
       "      <td>NaN</td>\n",
       "    </tr>\n",
       "    <tr>\n",
       "      <th>2020-03-29</th>\n",
       "      <td>6245.62</td>\n",
       "      <td>6250.47</td>\n",
       "      <td>5920.09</td>\n",
       "      <td>5922.04</td>\n",
       "      <td>6084.5550</td>\n",
       "      <td>NaN</td>\n",
       "    </tr>\n",
       "    <tr>\n",
       "      <th>2020-03-30</th>\n",
       "      <td>5925.54</td>\n",
       "      <td>6517.20</td>\n",
       "      <td>5903.23</td>\n",
       "      <td>6429.84</td>\n",
       "      <td>6193.9525</td>\n",
       "      <td>NaN</td>\n",
       "    </tr>\n",
       "    <tr>\n",
       "      <th>2020-03-31</th>\n",
       "      <td>6430.61</td>\n",
       "      <td>6504.52</td>\n",
       "      <td>6374.16</td>\n",
       "      <td>6438.64</td>\n",
       "      <td>6436.9825</td>\n",
       "      <td>NaN</td>\n",
       "    </tr>\n",
       "  </tbody>\n",
       "</table>\n",
       "</div>"
      ],
      "text/plain": [
       "               Open     High      Low    Close  OHLC_Average  \\\n",
       "Date                                                           \n",
       "2020-03-27  6719.39  6793.84  6466.70  6469.80     6612.4325   \n",
       "2020-03-28  6467.25  6467.50  6117.84  6242.19     6323.6950   \n",
       "2020-03-29  6245.62  6250.47  5920.09  5922.04     6084.5550   \n",
       "2020-03-30  5925.54  6517.20  5903.23  6429.84     6193.9525   \n",
       "2020-03-31  6430.61  6504.52  6374.16  6438.64     6436.9825   \n",
       "\n",
       "            Price_After_Month  \n",
       "Date                           \n",
       "2020-03-27                NaN  \n",
       "2020-03-28                NaN  \n",
       "2020-03-29                NaN  \n",
       "2020-03-30                NaN  \n",
       "2020-03-31                NaN  "
      ]
     },
     "execution_count": 11,
     "metadata": {},
     "output_type": "execute_result"
    }
   ],
   "source": [
    "btc.tail()"
   ]
  },
  {
   "cell_type": "code",
   "execution_count": 12,
   "metadata": {},
   "outputs": [],
   "source": [
    "from sklearn import preprocessing\n",
    "\n",
    "btc.dropna(inplace=True)\n",
    "X=btc.drop('Price_After_Month',axis=1)\n",
    "\n",
    "#We need to scale our values to input them in our model\n",
    "X=preprocessing.scale(X)\n",
    "y=btc['Price_After_Month']"
   ]
  },
  {
   "cell_type": "code",
   "execution_count": 13,
   "metadata": {},
   "outputs": [],
   "source": [
    "from sklearn import model_selection\n",
    "X_train,X_test,y_train,y_test=model_selection.train_test_split(X,y,test_size=0.3,random_state=101)"
   ]
  },
  {
   "cell_type": "code",
   "execution_count": 14,
   "metadata": {},
   "outputs": [],
   "source": [
    "from sklearn.ensemble import RandomForestRegressor\n",
    "reg=RandomForestRegressor(n_estimators=200,random_state=101)\n",
    "reg.fit(X_train,y_train)\n",
    "accuracy=reg.score(X_test,y_test)\n",
    "accuracy=accuracy*100\n",
    "accuracy = float(\"{0:.4f}\".format(accuracy))"
   ]
  },
  {
   "cell_type": "code",
   "execution_count": 15,
   "metadata": {},
   "outputs": [
    {
     "name": "stdout",
     "output_type": "stream",
     "text": [
      "Accuracy is: 87.041 %\n"
     ]
    }
   ],
   "source": [
    "#This percentage shows how much our regression fits our data\n",
    "print('Accuracy is:',accuracy,'%')"
   ]
  },
  {
   "cell_type": "code",
   "execution_count": 16,
   "metadata": {},
   "outputs": [
    {
     "name": "stdout",
     "output_type": "stream",
     "text": [
      "Prediction: 654.4334999999978 \n",
      "Real Value: 632.83\n"
     ]
    }
   ],
   "source": [
    "preds = reg.predict(X_test)\n",
    "\n",
    "#We can see that our predictions are kind of accurate.\n",
    "print(\"Prediction:\", preds[1], \"\\nReal Value:\", y_test[1])"
   ]
  },
  {
   "cell_type": "code",
   "execution_count": 17,
   "metadata": {},
   "outputs": [],
   "source": [
    "#Apply our model and get our prediction\n",
    "#Take the last 30 elements to make our predictions on them\n",
    "\n",
    "X_30=X[-30:]\n",
    "forecast=reg.predict(X_30)"
   ]
  },
  {
   "cell_type": "code",
   "execution_count": 18,
   "metadata": {},
   "outputs": [],
   "source": [
    "#Creating a new column which contains the predictions\n",
    "\n",
    "from datetime import datetime, timedelta\n",
    "last_date=btc.iloc[-1].name\n",
    "modified_date = last_date + timedelta(days=1)\n",
    "date=pd.date_range(modified_date,periods=30,freq='D')\n",
    "df1=pd.DataFrame(forecast,columns=['Forecast'],index=date)\n",
    "btc=btc.append(df1)"
   ]
  },
  {
   "cell_type": "code",
   "execution_count": 19,
   "metadata": {},
   "outputs": [
    {
     "data": {
      "text/html": [
       "<div>\n",
       "<style scoped>\n",
       "    .dataframe tbody tr th:only-of-type {\n",
       "        vertical-align: middle;\n",
       "    }\n",
       "\n",
       "    .dataframe tbody tr th {\n",
       "        vertical-align: top;\n",
       "    }\n",
       "\n",
       "    .dataframe thead th {\n",
       "        text-align: right;\n",
       "    }\n",
       "</style>\n",
       "<table border=\"1\" class=\"dataframe\">\n",
       "  <thead>\n",
       "    <tr style=\"text-align: right;\">\n",
       "      <th></th>\n",
       "      <th>Open</th>\n",
       "      <th>High</th>\n",
       "      <th>Low</th>\n",
       "      <th>Close</th>\n",
       "      <th>OHLC_Average</th>\n",
       "      <th>Price_After_Month</th>\n",
       "      <th>Forecast</th>\n",
       "    </tr>\n",
       "  </thead>\n",
       "  <tbody>\n",
       "    <tr>\n",
       "      <th>2020-03-17</th>\n",
       "      <td>NaN</td>\n",
       "      <td>NaN</td>\n",
       "      <td>NaN</td>\n",
       "      <td>NaN</td>\n",
       "      <td>NaN</td>\n",
       "      <td>NaN</td>\n",
       "      <td>6518.19040</td>\n",
       "    </tr>\n",
       "    <tr>\n",
       "      <th>2020-03-18</th>\n",
       "      <td>NaN</td>\n",
       "      <td>NaN</td>\n",
       "      <td>NaN</td>\n",
       "      <td>NaN</td>\n",
       "      <td>NaN</td>\n",
       "      <td>NaN</td>\n",
       "      <td>6258.21335</td>\n",
       "    </tr>\n",
       "    <tr>\n",
       "      <th>2020-03-19</th>\n",
       "      <td>NaN</td>\n",
       "      <td>NaN</td>\n",
       "      <td>NaN</td>\n",
       "      <td>NaN</td>\n",
       "      <td>NaN</td>\n",
       "      <td>NaN</td>\n",
       "      <td>7102.74575</td>\n",
       "    </tr>\n",
       "    <tr>\n",
       "      <th>2020-03-20</th>\n",
       "      <td>NaN</td>\n",
       "      <td>NaN</td>\n",
       "      <td>NaN</td>\n",
       "      <td>NaN</td>\n",
       "      <td>NaN</td>\n",
       "      <td>NaN</td>\n",
       "      <td>6835.91975</td>\n",
       "    </tr>\n",
       "    <tr>\n",
       "      <th>2020-03-21</th>\n",
       "      <td>NaN</td>\n",
       "      <td>NaN</td>\n",
       "      <td>NaN</td>\n",
       "      <td>NaN</td>\n",
       "      <td>NaN</td>\n",
       "      <td>NaN</td>\n",
       "      <td>7834.97165</td>\n",
       "    </tr>\n",
       "    <tr>\n",
       "      <th>2020-03-22</th>\n",
       "      <td>NaN</td>\n",
       "      <td>NaN</td>\n",
       "      <td>NaN</td>\n",
       "      <td>NaN</td>\n",
       "      <td>NaN</td>\n",
       "      <td>NaN</td>\n",
       "      <td>6421.46800</td>\n",
       "    </tr>\n",
       "    <tr>\n",
       "      <th>2020-03-23</th>\n",
       "      <td>NaN</td>\n",
       "      <td>NaN</td>\n",
       "      <td>NaN</td>\n",
       "      <td>NaN</td>\n",
       "      <td>NaN</td>\n",
       "      <td>NaN</td>\n",
       "      <td>6489.13310</td>\n",
       "    </tr>\n",
       "    <tr>\n",
       "      <th>2020-03-24</th>\n",
       "      <td>NaN</td>\n",
       "      <td>NaN</td>\n",
       "      <td>NaN</td>\n",
       "      <td>NaN</td>\n",
       "      <td>NaN</td>\n",
       "      <td>NaN</td>\n",
       "      <td>7707.91640</td>\n",
       "    </tr>\n",
       "    <tr>\n",
       "      <th>2020-03-25</th>\n",
       "      <td>NaN</td>\n",
       "      <td>NaN</td>\n",
       "      <td>NaN</td>\n",
       "      <td>NaN</td>\n",
       "      <td>NaN</td>\n",
       "      <td>NaN</td>\n",
       "      <td>6863.88770</td>\n",
       "    </tr>\n",
       "    <tr>\n",
       "      <th>2020-03-26</th>\n",
       "      <td>NaN</td>\n",
       "      <td>NaN</td>\n",
       "      <td>NaN</td>\n",
       "      <td>NaN</td>\n",
       "      <td>NaN</td>\n",
       "      <td>NaN</td>\n",
       "      <td>7075.21535</td>\n",
       "    </tr>\n",
       "    <tr>\n",
       "      <th>2020-03-27</th>\n",
       "      <td>NaN</td>\n",
       "      <td>NaN</td>\n",
       "      <td>NaN</td>\n",
       "      <td>NaN</td>\n",
       "      <td>NaN</td>\n",
       "      <td>NaN</td>\n",
       "      <td>7212.23105</td>\n",
       "    </tr>\n",
       "    <tr>\n",
       "      <th>2020-03-28</th>\n",
       "      <td>NaN</td>\n",
       "      <td>NaN</td>\n",
       "      <td>NaN</td>\n",
       "      <td>NaN</td>\n",
       "      <td>NaN</td>\n",
       "      <td>NaN</td>\n",
       "      <td>9532.38425</td>\n",
       "    </tr>\n",
       "    <tr>\n",
       "      <th>2020-03-29</th>\n",
       "      <td>NaN</td>\n",
       "      <td>NaN</td>\n",
       "      <td>NaN</td>\n",
       "      <td>NaN</td>\n",
       "      <td>NaN</td>\n",
       "      <td>NaN</td>\n",
       "      <td>7291.40245</td>\n",
       "    </tr>\n",
       "    <tr>\n",
       "      <th>2020-03-30</th>\n",
       "      <td>NaN</td>\n",
       "      <td>NaN</td>\n",
       "      <td>NaN</td>\n",
       "      <td>NaN</td>\n",
       "      <td>NaN</td>\n",
       "      <td>NaN</td>\n",
       "      <td>9249.90120</td>\n",
       "    </tr>\n",
       "    <tr>\n",
       "      <th>2020-03-31</th>\n",
       "      <td>NaN</td>\n",
       "      <td>NaN</td>\n",
       "      <td>NaN</td>\n",
       "      <td>NaN</td>\n",
       "      <td>NaN</td>\n",
       "      <td>NaN</td>\n",
       "      <td>7072.63615</td>\n",
       "    </tr>\n",
       "  </tbody>\n",
       "</table>\n",
       "</div>"
      ],
      "text/plain": [
       "            Open  High  Low  Close  OHLC_Average  Price_After_Month  \\\n",
       "2020-03-17   NaN   NaN  NaN    NaN           NaN                NaN   \n",
       "2020-03-18   NaN   NaN  NaN    NaN           NaN                NaN   \n",
       "2020-03-19   NaN   NaN  NaN    NaN           NaN                NaN   \n",
       "2020-03-20   NaN   NaN  NaN    NaN           NaN                NaN   \n",
       "2020-03-21   NaN   NaN  NaN    NaN           NaN                NaN   \n",
       "2020-03-22   NaN   NaN  NaN    NaN           NaN                NaN   \n",
       "2020-03-23   NaN   NaN  NaN    NaN           NaN                NaN   \n",
       "2020-03-24   NaN   NaN  NaN    NaN           NaN                NaN   \n",
       "2020-03-25   NaN   NaN  NaN    NaN           NaN                NaN   \n",
       "2020-03-26   NaN   NaN  NaN    NaN           NaN                NaN   \n",
       "2020-03-27   NaN   NaN  NaN    NaN           NaN                NaN   \n",
       "2020-03-28   NaN   NaN  NaN    NaN           NaN                NaN   \n",
       "2020-03-29   NaN   NaN  NaN    NaN           NaN                NaN   \n",
       "2020-03-30   NaN   NaN  NaN    NaN           NaN                NaN   \n",
       "2020-03-31   NaN   NaN  NaN    NaN           NaN                NaN   \n",
       "\n",
       "              Forecast  \n",
       "2020-03-17  6518.19040  \n",
       "2020-03-18  6258.21335  \n",
       "2020-03-19  7102.74575  \n",
       "2020-03-20  6835.91975  \n",
       "2020-03-21  7834.97165  \n",
       "2020-03-22  6421.46800  \n",
       "2020-03-23  6489.13310  \n",
       "2020-03-24  7707.91640  \n",
       "2020-03-25  6863.88770  \n",
       "2020-03-26  7075.21535  \n",
       "2020-03-27  7212.23105  \n",
       "2020-03-28  9532.38425  \n",
       "2020-03-29  7291.40245  \n",
       "2020-03-30  9249.90120  \n",
       "2020-03-31  7072.63615  "
      ]
     },
     "execution_count": 19,
     "metadata": {},
     "output_type": "execute_result"
    }
   ],
   "source": [
    "btc.tail(15)"
   ]
  },
  {
   "cell_type": "code",
   "execution_count": 20,
   "metadata": {},
   "outputs": [
    {
     "data": {
      "text/plain": [
       "<matplotlib.legend.Legend at 0x26807243b88>"
      ]
     },
     "execution_count": 20,
     "metadata": {},
     "output_type": "execute_result"
    },
    {
     "data": {
      "image/png": "[encoded data removed]",
      "text/plain": [
       "<Figure size 864x432 with 1 Axes>"
      ]
     },
     "metadata": {},
     "output_type": "display_data"
    }
   ],
   "source": [
    "#Predictions plotted on the chart\n",
    "\n",
    "btc['Close'].plot(figsize=(12,6),label='Close')\n",
    "btc['Forecast'].plot(label='forecast')\n",
    "plt.legend()"
   ]
  },
  {
   "cell_type": "code",
   "execution_count": 21,
   "metadata": {},
   "outputs": [
    {
     "data": {
      "text/plain": [
       "<matplotlib.legend.Legend at 0x268084899c8>"
      ]
     },
     "execution_count": 21,
     "metadata": {},
     "output_type": "execute_result"
    },
    {
     "data": {
      "image/png": "[encoded data removed]",
      "text/plain": [
       "<Figure size 864x432 with 1 Axes>"
      ]
     },
     "metadata": {},
     "output_type": "display_data"
    }
   ],
   "source": [
    "#Predictions plotted on the chart (Magnified)\n",
    "\n",
    "btc['Close'].plot(figsize=(12,6),label='Close')\n",
    "btc['Forecast'].plot(label='forecast')\n",
    "plt.axis((18275, 18352, 0, 16500))\n",
    "plt.legend()"
   ]
  },
  {
   "cell_type": "code",
   "execution_count": 22,
   "metadata": {},
   "outputs": [
    {
     "name": "stdout",
     "output_type": "stream",
     "text": [
      "Mean Absolute Error: 709.9670030864198\n",
      "Mean Squared Error: 1992595.680432776\n",
      "Root Mean Squared Error: 1411.5933126905836\n"
     ]
    }
   ],
   "source": [
    "from sklearn import metrics\n",
    "\n",
    "M1 = metrics.mean_absolute_error(y_test, preds);\n",
    "M2 = metrics.mean_squared_error(y_test, preds);\n",
    "M3 = np.sqrt(metrics.mean_squared_error(y_test, preds));\n",
    "\n",
    "print('Mean Absolute Error:', M1)\n",
    "print('Mean Squared Error:', M2)\n",
    "print('Root Mean Squared Error:', M3)"
   ]
  },
  {
   "cell_type": "code",
   "execution_count": null,
   "metadata": {},
   "outputs": [],
   "source": []
  }
 ],
 "metadata": {
  "kernelspec": {
   "display_name": "Python 3",
   "language": "python",
   "name": "python3"
  },
  "language_info": {
   "codemirror_mode": {
    "name": "ipython",
    "version": 3
   },
   "file_extension": ".py",
   "mimetype": "text/x-python",
   "name": "python",
   "nbconvert_exporter": "python",
   "pygments_lexer": "ipython3",
   "version": "3.7.4"
  }
 },
 "nbformat": 4,
 "nbformat_minor": 4
}
